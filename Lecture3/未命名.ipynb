{
 "cells": [
  {
   "cell_type": "code",
   "execution_count": 1,
   "metadata": {},
   "outputs": [],
   "source": [
    "import numpy as np\n",
    "from matplotlib import pyplot as plt"
   ]
  },
  {
   "cell_type": "code",
   "execution_count": 2,
   "metadata": {},
   "outputs": [],
   "source": [
    "def loadSimpData():  # 读取数据集与对应的标签\n",
    "    datMat = np.array([[1., 2.1],\n",
    "                       [2., 1.1],\n",
    "                       [1.3, 1.],\n",
    "                       [1., 1.],\n",
    "                       [2., 1.],\n",
    "                       [1.8, 1.6],\n",
    "                       [1.2, 1.2],\n",
    "                       [1.9, 1.7]])\n",
    "    classLabels = np.array([1.0, 1.0, -1.0, -1.0, 1.0, 1.0, -1.0, 1.0])\n",
    "    return datMat, classLabels"
   ]
  },
  {
   "cell_type": "code",
   "execution_count": 3,
   "metadata": {},
   "outputs": [],
   "source": [
    "def loadDataSet(fileName):\n",
    "    numFeat = len(open(fileName).readline().split('\\t'))  # 通过分隔符分割数据\n",
    "    dataMat = []  # 新建一个矩阵\n",
    "    labelMat = []\n",
    "    fr = open(fileName)  # 打开文件\n",
    "    for line in fr.readlines():  # 读入每行的数据\n",
    "        lineArr = []\n",
    "        curLine = line.strip().split('\\t')  # 通过分隔符分割数据\n",
    "        for i in range(numFeat - 1):\n",
    "            lineArr.append(float(curLine[i]))  # 将样本的属性存入lineArr\n",
    "        dataMat.append(lineArr)  # 将所有样本的属性存入dataMat\n",
    "        labelMat.append(float(curLine[-1]))  # 提取每行数据的标签\n",
    "    return dataMat, labelMat"
   ]
  },
  {
   "cell_type": "code",
   "execution_count": 4,
   "metadata": {},
   "outputs": [],
   "source": [
    "def stumpClassify(dataMatrix, dimen, threshVal, threshIneq):  # just classify the data\n",
    "    retArray = np.ones((np.shape(dataMatrix)[0], 1)) # 创建一个和dataMatrix\n",
    "    if threshIneq == 'lt':\n",
    "        # 使该列中值小于或等于阈值的点类别为-1.0，其他为1.0\n",
    "        retArray[dataMatrix[:, dimen] <= threshVal] = -1.0\n",
    "    else:\n",
    "        # 使该列中值大于阈值的点类别为-1.0，其他为1.0\n",
    "        retArray[dataMatrix[:, dimen] > threshVal] = -1.0\n",
    "    return retArray"
   ]
  },
  {
   "cell_type": "code",
   "execution_count": 5,
   "metadata": {},
   "outputs": [],
   "source": [
    "def buildStump(dataArr, classLabels, D):\n",
    "    dataMatrix = np.mat(dataArr)\n",
    "    labelMat = np.mat(classLabels).T  # 转置标签向量\n",
    "    m, n = np.shape(dataMatrix)  # 样本的行数列数\n",
    "    numSteps = 10.0  # 初始化步数\n",
    "    bestStump = {}  # 初始化决策树\n",
    "    bestClasEst = np.mat(np.zeros((m, 1)))  # 默认类别为0\n",
    "    minError = np.inf  # 初始化错误为无穷大\n",
    "    for i in range(n):  # 遍历数据所有属性\n",
    "        rangeMin = dataMatrix[:, i].min()  # 在当前属性中选取最小值\n",
    "        rangeMax = dataMatrix[:, i].max()  # 在当前属性中选取最大值\n",
    "        stepSize = (rangeMax - rangeMin) / numSteps  # 给定步数 计算步长\n",
    "        for j in range(-1, int(numSteps) + 1):  # 在当前维度内循环步数次\n",
    "            for inequal in ['lt', 'gt']:  # 对值小于threshVal时分类分为为1.0还是-1.0两种情况进行遍历\n",
    "                threshVal = (rangeMin + float(j) * stepSize)  # 计算划分值threshVal\n",
    "                predictedVals = stumpClassify(dataMatrix, i, threshVal, inequal)  # 得到分类结果\n",
    "                errArr = np.mat(np.ones((m, 1)))  # errArr默认为全1矩阵\n",
    "                errArr[predictedVals == labelMat] = 0  # 比对分类结果与标签进行 分类正确为0 错误为1\n",
    "                weightedError = D.T * errArr  # 计算加权后的误差\n",
    "                if weightedError < minError:  # 如果误差值小于最小误差\n",
    "                    minError = weightedError  # 则更新最小误差为当前误差\n",
    "                    bestClasEst = predictedVals.copy()  # 更新分类结果\n",
    "                    # 更新最佳的决策树为当前信息\n",
    "                    bestStump['dim'] = i  # i表示是以第1列还是第2列为分类依据\n",
    "                    bestStump['thresh'] = threshVal\n",
    "                    bestStump['ineq'] = inequal  # inequal决定值小于threshVal分类为-1.0还是1.0\n",
    "    return bestStump, minError, bestClasEst"
   ]
  },
  {
   "cell_type": "code",
   "execution_count": 6,
   "metadata": {},
   "outputs": [],
   "source": [
    "def adaBoostTrainDS(dataArr, classLabels, numIt=100):\n",
    "    weakClassArr = []  # 建立一个矩阵用于存放基学习器\n",
    "    m = np.shape(dataArr)[0]\n",
    "    D = np.mat(np.ones((m, 1)) / m)  # 初始化权值为1/m\n",
    "    aggClassEst = np.mat(np.zeros((m, 1)))\n",
    "    for i in range(numIt):\n",
    "        bestStump, error, classEst = buildStump(dataArr, classLabels, D)  # 调用buildStump函数 建立决策树\n",
    "        # 通过alpha的更新公式计算alpha\n",
    "        alpha = float(0.5 * np.log((1.0 - error) / max(error, 1e-16)))\n",
    "        bestStump['alpha'] = alpha\n",
    "        weakClassArr.append(bestStump)  # 在数组中存放基学习器的信息\n",
    "        # 计算自然底数幂次项\n",
    "        expon = np.multiply(-1 * alpha * np.mat(classLabels).T, classEst)\n",
    "        D = np.multiply(D, np.exp(expon))  # 更新权值D\n",
    "        D = D / D.sum()  # 对新计算出的D进行归一化操作(即公式中/z)\n",
    "        aggClassEst += alpha * classEst  # 计算更新后的分类结果\n",
    "\n",
    "        aggErrors = np.multiply(np.sign(aggClassEst) != np.mat(classLabels).T, np.ones((m, 1)))\n",
    "        errorRate = aggErrors.sum() / m\n",
    "        if m >= 50:\n",
    "            if i % 10 == 0 and i != 0:\n",
    "                print(\"total error: \", errorRate, \"({} / {})\".format(i, numIt))\n",
    "        else:\n",
    "            print(\"total error: \", errorRate)\n",
    "        if errorRate == 0.0:  # 如果错误率为0则直接跳出循环节省时间\n",
    "            break \n",
    "    return weakClassArr, aggClassEst"
   ]
  },
  {
   "cell_type": "code",
   "execution_count": 7,
   "metadata": {},
   "outputs": [],
   "source": [
    "def adaClassify(datToClass, labels, classifierArr):\n",
    "    dataMatrix = np.mat(datToClass)  # do stuff similar to last aggClassEst in adaBoostTrainDS\n",
    "    m = np.shape(dataMatrix)[0]\n",
    "    aggClassEst = np.mat(np.zeros((m, 1)))\n",
    "    for i in range(len(classifierArr)):\n",
    "        classEst = stumpClassify(  # 调用stumpClassify函数进行预测\n",
    "            dataMatrix,\n",
    "            classifierArr[i]['dim'],  # 读入维度\n",
    "            classifierArr[i]['thresh'],  # 读入阈值\n",
    "            classifierArr[i]['ineq']  # 读入与阈值的大小关系\n",
    "        )\n",
    "        aggClassEst += classifierArr[i]['alpha'] * classEst  # 更新alpha值并累加至aggClassEst\n",
    "    # 比对预测出类别与标签的差别 计算错误个数\n",
    "    aggErrors = np.multiply(np.sign(aggClassEst) != np.mat(labels).T, np.ones((m, 1)))\n",
    "    errorRate = aggErrors.sum() / m  # 计算错误率\n",
    "    print(\"test error: \", errorRate)\n",
    "    return np.sign(aggClassEst)  # 返回aggClassEst的符号值 即为预测的类别"
   ]
  },
  {
   "cell_type": "code",
   "execution_count": 8,
   "metadata": {},
   "outputs": [],
   "source": [
    "def plotThis(dataMat, classLabels, weakClassArr):\n",
    "    fig = plt.figure()\n",
    "    ax1 = fig.add_subplot(111)\n",
    "    classLabels = np.array(classLabels)\n",
    "    dataMat = np.array(dataMat)\n",
    "    L1 = np.where(classLabels == 1)\n",
    "    p1 = ax1.scatter(dataMat[L1, 0], dataMat[L1, 1], marker='+', color='r', label='1', s=50)\n",
    "    L2 = np.where(classLabels == -1)\n",
    "    p2 = ax1.scatter(dataMat[L2, 0], dataMat[L2, 1], marker='o', color='b', label='-1', s=50)\n",
    "\n",
    "    for i in range(len(weakClassArr)):\n",
    "        if weakClassArr[i]['dim'] == 0:\n",
    "            ax1.axvline(x=weakClassArr[i]['thresh'], c=\"k\", lw=2)\n",
    "        if weakClassArr[i]['dim'] == 1:\n",
    "            ax1.axhline(y=weakClassArr[i]['thresh'], c=\"k\", lw=2)\n",
    "    plt.ylabel('y-value')\n",
    "    plt.xlabel('x-value')\n",
    "    plt.show()"
   ]
  },
  {
   "cell_type": "code",
   "execution_count": 9,
   "metadata": {},
   "outputs": [
    {
     "name": "stdout",
     "output_type": "stream",
     "text": [
      "total error:  0.125\n",
      "total error:  0.125\n",
      "total error:  0.125\n",
      "total error:  0.125\n",
      "total error:  0.0\n"
     ]
    }
   ],
   "source": [
    "sampleMat, sampleLabel = loadSimpData()\n",
    "sampleArr, _ = adaBoostTrainDS(sampleMat, sampleLabel)"
   ]
  },
  {
   "cell_type": "code",
   "execution_count": 10,
   "metadata": {},
   "outputs": [
    {
     "data": {
      "image/png": "[encoded data removed]",
      "text/plain": [
       "<Figure size 432x288 with 1 Axes>"
      ]
     },
     "metadata": {
      "needs_background": "light"
     },
     "output_type": "display_data"
    }
   ],
   "source": [
    "plotThis(sampleMat, sampleLabel, sampleArr)"
   ]
  },
  {
   "cell_type": "code",
   "execution_count": 11,
   "metadata": {},
   "outputs": [
    {
     "name": "stdout",
     "output_type": "stream",
     "text": [
      "total error:  0.2408026755852843 (10 / 100)\n",
      "total error:  0.2140468227424749 (20 / 100)\n",
      "total error:  0.21070234113712374 (30 / 100)\n",
      "total error:  0.20066889632107024 (40 / 100)\n",
      "total error:  0.1939799331103679 (50 / 100)\n",
      "total error:  0.1939799331103679 (60 / 100)\n",
      "total error:  0.19063545150501673 (70 / 100)\n",
      "total error:  0.18394648829431437 (80 / 100)\n",
      "total error:  0.18394648829431437 (90 / 100)\n",
      "test error:  0.22388059701492538\n"
     ]
    },
    {
     "data": {
      "text/plain": [
       "matrix([[ 1.],\n",
       "        [ 1.],\n",
       "        [ 1.],\n",
       "        [-1.],\n",
       "        [ 1.],\n",
       "        [ 1.],\n",
       "        [ 1.],\n",
       "        [ 1.],\n",
       "        [ 1.],\n",
       "        [-1.],\n",
       "        [-1.],\n",
       "        [-1.],\n",
       "        [-1.],\n",
       "        [ 1.],\n",
       "        [-1.],\n",
       "        [ 1.],\n",
       "        [ 1.],\n",
       "        [-1.],\n",
       "        [-1.],\n",
       "        [-1.],\n",
       "        [-1.],\n",
       "        [ 1.],\n",
       "        [-1.],\n",
       "        [-1.],\n",
       "        [ 1.],\n",
       "        [ 1.],\n",
       "        [ 1.],\n",
       "        [ 1.],\n",
       "        [ 1.],\n",
       "        [ 1.],\n",
       "        [ 1.],\n",
       "        [-1.],\n",
       "        [-1.],\n",
       "        [-1.],\n",
       "        [-1.],\n",
       "        [-1.],\n",
       "        [ 1.],\n",
       "        [ 1.],\n",
       "        [ 1.],\n",
       "        [ 1.],\n",
       "        [ 1.],\n",
       "        [ 1.],\n",
       "        [-1.],\n",
       "        [-1.],\n",
       "        [-1.],\n",
       "        [ 1.],\n",
       "        [-1.],\n",
       "        [ 1.],\n",
       "        [ 1.],\n",
       "        [-1.],\n",
       "        [-1.],\n",
       "        [ 1.],\n",
       "        [ 1.],\n",
       "        [ 1.],\n",
       "        [ 1.],\n",
       "        [ 1.],\n",
       "        [ 1.],\n",
       "        [ 1.],\n",
       "        [ 1.],\n",
       "        [-1.],\n",
       "        [ 1.],\n",
       "        [-1.],\n",
       "        [ 1.],\n",
       "        [ 1.],\n",
       "        [ 1.],\n",
       "        [ 1.],\n",
       "        [ 1.]])"
      ]
     },
     "execution_count": 11,
     "metadata": {},
     "output_type": "execute_result"
    }
   ],
   "source": [
    "trainMat, trainLabel = loadDataSet('horseColicTraining2.txt')\n",
    "weakClassArr, _ = adaBoostTrainDS(trainMat, trainLabel)\n",
    "testMat, testLabel = loadDataSet('horseColicTest2.txt')\n",
    "adaClassify(testMat, testLabel, weakClassArr)"
   ]
  },
  {
   "cell_type": "code",
   "execution_count": 27,
   "metadata": {},
   "outputs": [],
   "source": [
    "def trainLogisticReg(data, label):\n",
    "    data = np.array(data)\n",
    "    label = np.array(label)\n",
    "    def g(z): return 1 / (1 + np.exp(z))\n",
    "    n, d = data.shape\n",
    "    theta = np.zeros(d)\n",
    "    delta = np.inf\n",
    "    step = 0\n",
    "    itering = True\n",
    "    while delta >=1e-5 and step < 10000:\n",
    "        grad = np.zeros(d)\n",
    "        for i in range(d):\n",
    "            grad[i] = - np.mean(label - g(np.matmul(data, theta)) * data[:, i])\n",
    "        hess = np.zeros([d, d])\n",
    "        assert hess.shape == (d, d)\n",
    "        for i in range(d):\n",
    "            for j in range(d):\n",
    "                hess[i][j] = np.mean(\n",
    "                    g(np.matmul(data, theta)) * (1 - g(np.matmul(data, theta))) * data[:, i] * data[:, j]\n",
    "                )\n",
    "        new_theta = theta - np.matmul(np.linalg.inv(hess), grad)\n",
    "        assert new_theta.shape == theta.shape\n",
    "        delta = np.linalg.norm(new_theta - theta)\n",
    "        theta = new_theta\n",
    "        if itering:\n",
    "            print(f\"Newton's method epoch {step}: parameter change: {delta}.\")\n",
    "        step += 1\n",
    "    print(f\"Newton's method converges after {step} epochs.\")\n",
    "    return theta"
   ]
  },
  {
   "cell_type": "code",
   "execution_count": 28,
   "metadata": {},
   "outputs": [],
   "source": [
    "def logisticPredict(data, theta):\n",
    "    prob = g(np.matmul(data, theta))\n",
    "    if prob > 0.5:\n",
    "        clas = 1\n",
    "    else:\n",
    "        clas = 0\n",
    "    return prob, clas"
   ]
  },
  {
   "cell_type": "code",
   "execution_count": 29,
   "metadata": {},
   "outputs": [
    {
     "name": "stdout",
     "output_type": "stream",
     "text": [
      "Newton's method epoch 0: parameter change: 2.7515369276565647.\n",
      "Newton's method epoch 1: parameter change: 31.202165884675114.\n",
      "Newton's method epoch 2: parameter change: 52745.4174198988.\n",
      "Newton's method epoch 3: parameter change: inf.\n"
     ]
    },
    {
     "name": "stderr",
     "output_type": "stream",
     "text": [
      "<ipython-input-27-ac83b89807e8>:4: RuntimeWarning: overflow encountered in exp\n",
      "  def g(z): return 1 / (1 + np.exp(z))\n"
     ]
    },
    {
     "ename": "LinAlgError",
     "evalue": "Singular matrix",
     "output_type": "error",
     "traceback": [
      "\u001b[1;31m---------------------------------------------------------------------------\u001b[0m",
      "\u001b[1;31mLinAlgError\u001b[0m                               Traceback (most recent call last)",
      "\u001b[1;32m<ipython-input-29-47bfe7458091>\u001b[0m in \u001b[0;36m<module>\u001b[1;34m\u001b[0m\n\u001b[1;32m----> 1\u001b[1;33m \u001b[0mweight\u001b[0m \u001b[1;33m=\u001b[0m \u001b[0mtrainLogisticReg\u001b[0m\u001b[1;33m(\u001b[0m\u001b[0mtrainMat\u001b[0m\u001b[1;33m,\u001b[0m \u001b[0mtrainLabel\u001b[0m\u001b[1;33m)\u001b[0m\u001b[1;33m\u001b[0m\u001b[1;33m\u001b[0m\u001b[0m\n\u001b[0m\u001b[0;32m      2\u001b[0m \u001b[0m_\u001b[0m\u001b[1;33m,\u001b[0m \u001b[0mres\u001b[0m \u001b[1;33m=\u001b[0m \u001b[0mlogisticPredict\u001b[0m\u001b[1;33m(\u001b[0m\u001b[0mtestMat\u001b[0m\u001b[1;33m,\u001b[0m \u001b[0mweight\u001b[0m\u001b[1;33m)\u001b[0m\u001b[1;33m\u001b[0m\u001b[1;33m\u001b[0m\u001b[0m\n",
      "\u001b[1;32m<ipython-input-27-ac83b89807e8>\u001b[0m in \u001b[0;36mtrainLogisticReg\u001b[1;34m(data, label)\u001b[0m\n\u001b[0;32m     19\u001b[0m                     \u001b[0mg\u001b[0m\u001b[1;33m(\u001b[0m\u001b[0mnp\u001b[0m\u001b[1;33m.\u001b[0m\u001b[0mmatmul\u001b[0m\u001b[1;33m(\u001b[0m\u001b[0mdata\u001b[0m\u001b[1;33m,\u001b[0m \u001b[0mtheta\u001b[0m\u001b[1;33m)\u001b[0m\u001b[1;33m)\u001b[0m \u001b[1;33m*\u001b[0m \u001b[1;33m(\u001b[0m\u001b[1;36m1\u001b[0m \u001b[1;33m-\u001b[0m \u001b[0mg\u001b[0m\u001b[1;33m(\u001b[0m\u001b[0mnp\u001b[0m\u001b[1;33m.\u001b[0m\u001b[0mmatmul\u001b[0m\u001b[1;33m(\u001b[0m\u001b[0mdata\u001b[0m\u001b[1;33m,\u001b[0m \u001b[0mtheta\u001b[0m\u001b[1;33m)\u001b[0m\u001b[1;33m)\u001b[0m\u001b[1;33m)\u001b[0m \u001b[1;33m*\u001b[0m \u001b[0mdata\u001b[0m\u001b[1;33m[\u001b[0m\u001b[1;33m:\u001b[0m\u001b[1;33m,\u001b[0m \u001b[0mi\u001b[0m\u001b[1;33m]\u001b[0m \u001b[1;33m*\u001b[0m \u001b[0mdata\u001b[0m\u001b[1;33m[\u001b[0m\u001b[1;33m:\u001b[0m\u001b[1;33m,\u001b[0m \u001b[0mj\u001b[0m\u001b[1;33m]\u001b[0m\u001b[1;33m\u001b[0m\u001b[1;33m\u001b[0m\u001b[0m\n\u001b[0;32m     20\u001b[0m                 )\n\u001b[1;32m---> 21\u001b[1;33m         \u001b[0mnew_theta\u001b[0m \u001b[1;33m=\u001b[0m \u001b[0mtheta\u001b[0m \u001b[1;33m-\u001b[0m \u001b[0mnp\u001b[0m\u001b[1;33m.\u001b[0m\u001b[0mmatmul\u001b[0m\u001b[1;33m(\u001b[0m\u001b[0mnp\u001b[0m\u001b[1;33m.\u001b[0m\u001b[0mlinalg\u001b[0m\u001b[1;33m.\u001b[0m\u001b[0minv\u001b[0m\u001b[1;33m(\u001b[0m\u001b[0mhess\u001b[0m\u001b[1;33m)\u001b[0m\u001b[1;33m,\u001b[0m \u001b[0mgrad\u001b[0m\u001b[1;33m)\u001b[0m\u001b[1;33m\u001b[0m\u001b[1;33m\u001b[0m\u001b[0m\n\u001b[0m\u001b[0;32m     22\u001b[0m         \u001b[1;32massert\u001b[0m \u001b[0mnew_theta\u001b[0m\u001b[1;33m.\u001b[0m\u001b[0mshape\u001b[0m \u001b[1;33m==\u001b[0m \u001b[0mtheta\u001b[0m\u001b[1;33m.\u001b[0m\u001b[0mshape\u001b[0m\u001b[1;33m\u001b[0m\u001b[1;33m\u001b[0m\u001b[0m\n\u001b[0;32m     23\u001b[0m         \u001b[0mdelta\u001b[0m \u001b[1;33m=\u001b[0m \u001b[0mnp\u001b[0m\u001b[1;33m.\u001b[0m\u001b[0mlinalg\u001b[0m\u001b[1;33m.\u001b[0m\u001b[0mnorm\u001b[0m\u001b[1;33m(\u001b[0m\u001b[0mnew_theta\u001b[0m \u001b[1;33m-\u001b[0m \u001b[0mtheta\u001b[0m\u001b[1;33m)\u001b[0m\u001b[1;33m\u001b[0m\u001b[1;33m\u001b[0m\u001b[0m\n",
      "\u001b[1;32m<__array_function__ internals>\u001b[0m in \u001b[0;36minv\u001b[1;34m(*args, **kwargs)\u001b[0m\n",
      "\u001b[1;32m~\\anaconda3\\lib\\site-packages\\numpy\\linalg\\linalg.py\u001b[0m in \u001b[0;36minv\u001b[1;34m(a)\u001b[0m\n\u001b[0;32m    545\u001b[0m     \u001b[0msignature\u001b[0m \u001b[1;33m=\u001b[0m \u001b[1;34m'D->D'\u001b[0m \u001b[1;32mif\u001b[0m \u001b[0misComplexType\u001b[0m\u001b[1;33m(\u001b[0m\u001b[0mt\u001b[0m\u001b[1;33m)\u001b[0m \u001b[1;32melse\u001b[0m \u001b[1;34m'd->d'\u001b[0m\u001b[1;33m\u001b[0m\u001b[1;33m\u001b[0m\u001b[0m\n\u001b[0;32m    546\u001b[0m     \u001b[0mextobj\u001b[0m \u001b[1;33m=\u001b[0m \u001b[0mget_linalg_error_extobj\u001b[0m\u001b[1;33m(\u001b[0m\u001b[0m_raise_linalgerror_singular\u001b[0m\u001b[1;33m)\u001b[0m\u001b[1;33m\u001b[0m\u001b[1;33m\u001b[0m\u001b[0m\n\u001b[1;32m--> 547\u001b[1;33m     \u001b[0mainv\u001b[0m \u001b[1;33m=\u001b[0m \u001b[0m_umath_linalg\u001b[0m\u001b[1;33m.\u001b[0m\u001b[0minv\u001b[0m\u001b[1;33m(\u001b[0m\u001b[0ma\u001b[0m\u001b[1;33m,\u001b[0m \u001b[0msignature\u001b[0m\u001b[1;33m=\u001b[0m\u001b[0msignature\u001b[0m\u001b[1;33m,\u001b[0m \u001b[0mextobj\u001b[0m\u001b[1;33m=\u001b[0m\u001b[0mextobj\u001b[0m\u001b[1;33m)\u001b[0m\u001b[1;33m\u001b[0m\u001b[1;33m\u001b[0m\u001b[0m\n\u001b[0m\u001b[0;32m    548\u001b[0m     \u001b[1;32mreturn\u001b[0m \u001b[0mwrap\u001b[0m\u001b[1;33m(\u001b[0m\u001b[0mainv\u001b[0m\u001b[1;33m.\u001b[0m\u001b[0mastype\u001b[0m\u001b[1;33m(\u001b[0m\u001b[0mresult_t\u001b[0m\u001b[1;33m,\u001b[0m \u001b[0mcopy\u001b[0m\u001b[1;33m=\u001b[0m\u001b[1;32mFalse\u001b[0m\u001b[1;33m)\u001b[0m\u001b[1;33m)\u001b[0m\u001b[1;33m\u001b[0m\u001b[1;33m\u001b[0m\u001b[0m\n\u001b[0;32m    549\u001b[0m \u001b[1;33m\u001b[0m\u001b[0m\n",
      "\u001b[1;32m~\\anaconda3\\lib\\site-packages\\numpy\\linalg\\linalg.py\u001b[0m in \u001b[0;36m_raise_linalgerror_singular\u001b[1;34m(err, flag)\u001b[0m\n\u001b[0;32m     95\u001b[0m \u001b[1;33m\u001b[0m\u001b[0m\n\u001b[0;32m     96\u001b[0m \u001b[1;32mdef\u001b[0m \u001b[0m_raise_linalgerror_singular\u001b[0m\u001b[1;33m(\u001b[0m\u001b[0merr\u001b[0m\u001b[1;33m,\u001b[0m \u001b[0mflag\u001b[0m\u001b[1;33m)\u001b[0m\u001b[1;33m:\u001b[0m\u001b[1;33m\u001b[0m\u001b[1;33m\u001b[0m\u001b[0m\n\u001b[1;32m---> 97\u001b[1;33m     \u001b[1;32mraise\u001b[0m \u001b[0mLinAlgError\u001b[0m\u001b[1;33m(\u001b[0m\u001b[1;34m\"Singular matrix\"\u001b[0m\u001b[1;33m)\u001b[0m\u001b[1;33m\u001b[0m\u001b[1;33m\u001b[0m\u001b[0m\n\u001b[0m\u001b[0;32m     98\u001b[0m \u001b[1;33m\u001b[0m\u001b[0m\n\u001b[0;32m     99\u001b[0m \u001b[1;32mdef\u001b[0m \u001b[0m_raise_linalgerror_nonposdef\u001b[0m\u001b[1;33m(\u001b[0m\u001b[0merr\u001b[0m\u001b[1;33m,\u001b[0m \u001b[0mflag\u001b[0m\u001b[1;33m)\u001b[0m\u001b[1;33m:\u001b[0m\u001b[1;33m\u001b[0m\u001b[1;33m\u001b[0m\u001b[0m\n",
      "\u001b[1;31mLinAlgError\u001b[0m: Singular matrix"
     ]
    }
   ],
   "source": [
    "weight = trainLogisticReg(trainMat, trainLabel)\n",
    "_, res = logisticPredict(testMat, weight)"
   ]
  },
  {
   "cell_type": "code",
   "execution_count": null,
   "metadata": {},
   "outputs": [],
   "source": []
  },
  {
   "cell_type": "code",
   "execution_count": null,
   "metadata": {},
   "outputs": [],
   "source": []
  }
 ],
 "metadata": {
  "kernelspec": {
   "display_name": "Python 3",
   "language": "python",
   "name": "python3"
  },
  "language_info": {
   "codemirror_mode": {
    "name": "ipython",
    "version": 3
   },
   "file_extension": ".py",
   "mimetype": "text/x-python",
   "name": "python",
   "nbconvert_exporter": "python",
   "pygments_lexer": "ipython3",
   "version": "3.8.3"
  }
 },
 "nbformat": 4,
 "nbformat_minor": 5
}
